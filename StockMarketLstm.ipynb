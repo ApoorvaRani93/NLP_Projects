{
 "cells": [
  {
   "cell_type": "markdown",
   "metadata": {},
   "source": [
    "## Predicting Stock Price with LSTM"
   ]
  },
  {
   "cell_type": "code",
   "execution_count": 1,
   "metadata": {},
   "outputs": [
    {
     "name": "stderr",
     "output_type": "stream",
     "text": [
      "c:\\users\\rania\\desktop\\nlpproject_env\\lib\\site-packages\\ipykernel_launcher.py:6: TqdmDeprecationWarning: This function will be removed in tqdm==5.0.0\n",
      "Please use `tqdm.notebook.*` instead of `tqdm._tqdm_notebook.*`\n",
      "  \n"
     ]
    },
    {
     "data": {
      "text/html": [
       "<div>\n",
       "<style scoped>\n",
       "    .dataframe tbody tr th:only-of-type {\n",
       "        vertical-align: middle;\n",
       "    }\n",
       "\n",
       "    .dataframe tbody tr th {\n",
       "        vertical-align: top;\n",
       "    }\n",
       "\n",
       "    .dataframe thead th {\n",
       "        text-align: right;\n",
       "    }\n",
       "</style>\n",
       "<table border=\"1\" class=\"dataframe\">\n",
       "  <thead>\n",
       "    <tr style=\"text-align: right;\">\n",
       "      <th></th>\n",
       "      <th>0</th>\n",
       "      <th>1</th>\n",
       "      <th>2</th>\n",
       "      <th>3</th>\n",
       "      <th>4</th>\n",
       "      <th>5</th>\n",
       "      <th>6</th>\n",
       "    </tr>\n",
       "  </thead>\n",
       "  <tbody>\n",
       "    <tr>\n",
       "      <th>1</th>\n",
       "      <td>1962-01-02</td>\n",
       "      <td>0.6277</td>\n",
       "      <td>0.6362</td>\n",
       "      <td>0.6201</td>\n",
       "      <td>0.6201</td>\n",
       "      <td>2575579</td>\n",
       "      <td>0</td>\n",
       "    </tr>\n",
       "    <tr>\n",
       "      <th>2</th>\n",
       "      <td>1962-01-03</td>\n",
       "      <td>0.6201</td>\n",
       "      <td>0.6201</td>\n",
       "      <td>0.6122</td>\n",
       "      <td>0.6201</td>\n",
       "      <td>1764749</td>\n",
       "      <td>0</td>\n",
       "    </tr>\n",
       "    <tr>\n",
       "      <th>3</th>\n",
       "      <td>1962-01-04</td>\n",
       "      <td>0.6201</td>\n",
       "      <td>0.6201</td>\n",
       "      <td>0.6037</td>\n",
       "      <td>0.6122</td>\n",
       "      <td>2194010</td>\n",
       "      <td>0</td>\n",
       "    </tr>\n",
       "    <tr>\n",
       "      <th>4</th>\n",
       "      <td>1962-01-05</td>\n",
       "      <td>0.6122</td>\n",
       "      <td>0.6122</td>\n",
       "      <td>0.5798</td>\n",
       "      <td>0.5957</td>\n",
       "      <td>3255244</td>\n",
       "      <td>0</td>\n",
       "    </tr>\n",
       "    <tr>\n",
       "      <th>5</th>\n",
       "      <td>1962-01-08</td>\n",
       "      <td>0.5957</td>\n",
       "      <td>0.5957</td>\n",
       "      <td>0.5716</td>\n",
       "      <td>0.5957</td>\n",
       "      <td>3696430</td>\n",
       "      <td>0</td>\n",
       "    </tr>\n",
       "    <tr>\n",
       "      <th>...</th>\n",
       "      <td>...</td>\n",
       "      <td>...</td>\n",
       "      <td>...</td>\n",
       "      <td>...</td>\n",
       "      <td>...</td>\n",
       "      <td>...</td>\n",
       "      <td>...</td>\n",
       "    </tr>\n",
       "    <tr>\n",
       "      <th>14054</th>\n",
       "      <td>2017-11-06</td>\n",
       "      <td>20.52</td>\n",
       "      <td>20.53</td>\n",
       "      <td>20.08</td>\n",
       "      <td>20.13</td>\n",
       "      <td>60641787</td>\n",
       "      <td>0</td>\n",
       "    </tr>\n",
       "    <tr>\n",
       "      <th>14055</th>\n",
       "      <td>2017-11-07</td>\n",
       "      <td>20.17</td>\n",
       "      <td>20.25</td>\n",
       "      <td>20.12</td>\n",
       "      <td>20.21</td>\n",
       "      <td>41622851</td>\n",
       "      <td>0</td>\n",
       "    </tr>\n",
       "    <tr>\n",
       "      <th>14056</th>\n",
       "      <td>2017-11-08</td>\n",
       "      <td>20.21</td>\n",
       "      <td>20.32</td>\n",
       "      <td>20.07</td>\n",
       "      <td>20.12</td>\n",
       "      <td>39672190</td>\n",
       "      <td>0</td>\n",
       "    </tr>\n",
       "    <tr>\n",
       "      <th>14057</th>\n",
       "      <td>2017-11-09</td>\n",
       "      <td>20.04</td>\n",
       "      <td>20.071</td>\n",
       "      <td>19.85</td>\n",
       "      <td>19.99</td>\n",
       "      <td>50831779</td>\n",
       "      <td>0</td>\n",
       "    </tr>\n",
       "    <tr>\n",
       "      <th>14058</th>\n",
       "      <td>2017-11-10</td>\n",
       "      <td>19.98</td>\n",
       "      <td>20.68</td>\n",
       "      <td>19.9</td>\n",
       "      <td>20.49</td>\n",
       "      <td>100698474</td>\n",
       "      <td>0</td>\n",
       "    </tr>\n",
       "  </tbody>\n",
       "</table>\n",
       "<p>14058 rows × 7 columns</p>\n",
       "</div>"
      ],
      "text/plain": [
       "                0       1       2       3       4          5  6\n",
       "1      1962-01-02  0.6277  0.6362  0.6201  0.6201    2575579  0\n",
       "2      1962-01-03  0.6201  0.6201  0.6122  0.6201    1764749  0\n",
       "3      1962-01-04  0.6201  0.6201  0.6037  0.6122    2194010  0\n",
       "4      1962-01-05  0.6122  0.6122  0.5798  0.5957    3255244  0\n",
       "5      1962-01-08  0.5957  0.5957  0.5716  0.5957    3696430  0\n",
       "...           ...     ...     ...     ...     ...        ... ..\n",
       "14054  2017-11-06   20.52   20.53   20.08   20.13   60641787  0\n",
       "14055  2017-11-07   20.17   20.25   20.12   20.21   41622851  0\n",
       "14056  2017-11-08   20.21   20.32   20.07   20.12   39672190  0\n",
       "14057  2017-11-09   20.04  20.071   19.85   19.99   50831779  0\n",
       "14058  2017-11-10   19.98   20.68    19.9   20.49  100698474  0\n",
       "\n",
       "[14058 rows x 7 columns]"
      ]
     },
     "execution_count": 1,
     "metadata": {},
     "output_type": "execute_result"
    }
   ],
   "source": [
    "import pandas as pd\n",
    "import numpy as np\n",
    "import os\n",
    "import sys\n",
    "import time\n",
    "from tqdm._tqdm_notebook import tqdm_notebook\n",
    "data = pd.read_csv(\"ge.us.txt\",header=None)\n",
    "data =data.iloc[1:,:]\n",
    "data"
   ]
  },
  {
   "cell_type": "markdown",
   "metadata": {},
   "source": [
    "#### Reading and Analysing the data:"
   ]
  },
  {
   "cell_type": "code",
   "execution_count": 2,
   "metadata": {},
   "outputs": [
    {
     "data": {
      "image/png": "[encoded data removed]",
      "text/plain": [
       "<Figure size 432x288 with 1 Axes>"
      ]
     },
     "metadata": {
      "needs_background": "light"
     },
     "output_type": "display_data"
    }
   ],
   "source": [
    "import matplotlib.pyplot as plt\n",
    "plt.figure()\n",
    "plt.plot(data.iloc[:,1])\n",
    "plt.plot(data.iloc[:,2])\n",
    "plt.plot(data.iloc[:,3])\n",
    "plt.plot(data.iloc[:,4])\n",
    "plt.title('GE stock price history')\n",
    "plt.ylabel('Price (USD)')\n",
    "plt.xlabel('Days')\n",
    "plt.legend(['Open','High','Low','Close'],loc='upper left')\n",
    "plt.show()"
   ]
  },
  {
   "cell_type": "markdown",
   "metadata": {},
   "source": [
    "#### Price -[Open,Close,High,Low] dont vary so much !"
   ]
  },
  {
   "cell_type": "code",
   "execution_count": 3,
   "metadata": {},
   "outputs": [
    {
     "data": {
      "image/png": "[encoded data removed]",
      "text/plain": [
       "<Figure size 432x288 with 1 Axes>"
      ]
     },
     "metadata": {
      "needs_background": "light"
     },
     "output_type": "display_data"
    }
   ],
   "source": [
    "plt.figure()\n",
    "plt.plot(data.iloc[:,5])\n",
    "plt.title('GE stock volume history')\n",
    "plt.ylabel('Volume')\n",
    "plt.xlabel('Days')\n",
    "plt.show()"
   ]
  },
  {
   "cell_type": "markdown",
   "metadata": {},
   "source": [
    "#### Looks like when the prices are low the volumes go up!\n"
   ]
  },
  {
   "cell_type": "code",
   "execution_count": 4,
   "metadata": {},
   "outputs": [
    {
     "data": {
      "text/html": [
       "<div>\n",
       "<style scoped>\n",
       "    .dataframe tbody tr th:only-of-type {\n",
       "        vertical-align: middle;\n",
       "    }\n",
       "\n",
       "    .dataframe tbody tr th {\n",
       "        vertical-align: top;\n",
       "    }\n",
       "\n",
       "    .dataframe thead th {\n",
       "        text-align: right;\n",
       "    }\n",
       "</style>\n",
       "<table border=\"1\" class=\"dataframe\">\n",
       "  <thead>\n",
       "    <tr style=\"text-align: right;\">\n",
       "      <th></th>\n",
       "      <th>Date</th>\n",
       "      <th>Open</th>\n",
       "      <th>High</th>\n",
       "      <th>Low</th>\n",
       "      <th>Close</th>\n",
       "      <th>Volume</th>\n",
       "      <th>OpenInt</th>\n",
       "    </tr>\n",
       "  </thead>\n",
       "  <tbody>\n",
       "    <tr>\n",
       "      <th>1</th>\n",
       "      <td>1962-01-02</td>\n",
       "      <td>0.6277</td>\n",
       "      <td>0.6362</td>\n",
       "      <td>0.6201</td>\n",
       "      <td>0.6201</td>\n",
       "      <td>2575579</td>\n",
       "      <td>0</td>\n",
       "    </tr>\n",
       "    <tr>\n",
       "      <th>2</th>\n",
       "      <td>1962-01-03</td>\n",
       "      <td>0.6201</td>\n",
       "      <td>0.6201</td>\n",
       "      <td>0.6122</td>\n",
       "      <td>0.6201</td>\n",
       "      <td>1764749</td>\n",
       "      <td>0</td>\n",
       "    </tr>\n",
       "    <tr>\n",
       "      <th>3</th>\n",
       "      <td>1962-01-04</td>\n",
       "      <td>0.6201</td>\n",
       "      <td>0.6201</td>\n",
       "      <td>0.6037</td>\n",
       "      <td>0.6122</td>\n",
       "      <td>2194010</td>\n",
       "      <td>0</td>\n",
       "    </tr>\n",
       "    <tr>\n",
       "      <th>4</th>\n",
       "      <td>1962-01-05</td>\n",
       "      <td>0.6122</td>\n",
       "      <td>0.6122</td>\n",
       "      <td>0.5798</td>\n",
       "      <td>0.5957</td>\n",
       "      <td>3255244</td>\n",
       "      <td>0</td>\n",
       "    </tr>\n",
       "    <tr>\n",
       "      <th>5</th>\n",
       "      <td>1962-01-08</td>\n",
       "      <td>0.5957</td>\n",
       "      <td>0.5957</td>\n",
       "      <td>0.5716</td>\n",
       "      <td>0.5957</td>\n",
       "      <td>3696430</td>\n",
       "      <td>0</td>\n",
       "    </tr>\n",
       "    <tr>\n",
       "      <th>...</th>\n",
       "      <td>...</td>\n",
       "      <td>...</td>\n",
       "      <td>...</td>\n",
       "      <td>...</td>\n",
       "      <td>...</td>\n",
       "      <td>...</td>\n",
       "      <td>...</td>\n",
       "    </tr>\n",
       "    <tr>\n",
       "      <th>14054</th>\n",
       "      <td>2017-11-06</td>\n",
       "      <td>20.52</td>\n",
       "      <td>20.53</td>\n",
       "      <td>20.08</td>\n",
       "      <td>20.13</td>\n",
       "      <td>60641787</td>\n",
       "      <td>0</td>\n",
       "    </tr>\n",
       "    <tr>\n",
       "      <th>14055</th>\n",
       "      <td>2017-11-07</td>\n",
       "      <td>20.17</td>\n",
       "      <td>20.25</td>\n",
       "      <td>20.12</td>\n",
       "      <td>20.21</td>\n",
       "      <td>41622851</td>\n",
       "      <td>0</td>\n",
       "    </tr>\n",
       "    <tr>\n",
       "      <th>14056</th>\n",
       "      <td>2017-11-08</td>\n",
       "      <td>20.21</td>\n",
       "      <td>20.32</td>\n",
       "      <td>20.07</td>\n",
       "      <td>20.12</td>\n",
       "      <td>39672190</td>\n",
       "      <td>0</td>\n",
       "    </tr>\n",
       "    <tr>\n",
       "      <th>14057</th>\n",
       "      <td>2017-11-09</td>\n",
       "      <td>20.04</td>\n",
       "      <td>20.071</td>\n",
       "      <td>19.85</td>\n",
       "      <td>19.99</td>\n",
       "      <td>50831779</td>\n",
       "      <td>0</td>\n",
       "    </tr>\n",
       "    <tr>\n",
       "      <th>14058</th>\n",
       "      <td>2017-11-10</td>\n",
       "      <td>19.98</td>\n",
       "      <td>20.68</td>\n",
       "      <td>19.9</td>\n",
       "      <td>20.49</td>\n",
       "      <td>100698474</td>\n",
       "      <td>0</td>\n",
       "    </tr>\n",
       "  </tbody>\n",
       "</table>\n",
       "<p>14058 rows × 7 columns</p>\n",
       "</div>"
      ],
      "text/plain": [
       "             Date    Open    High     Low   Close     Volume OpenInt\n",
       "1      1962-01-02  0.6277  0.6362  0.6201  0.6201    2575579       0\n",
       "2      1962-01-03  0.6201  0.6201  0.6122  0.6201    1764749       0\n",
       "3      1962-01-04  0.6201  0.6201  0.6037  0.6122    2194010       0\n",
       "4      1962-01-05  0.6122  0.6122  0.5798  0.5957    3255244       0\n",
       "5      1962-01-08  0.5957  0.5957  0.5716  0.5957    3696430       0\n",
       "...           ...     ...     ...     ...     ...        ...     ...\n",
       "14054  2017-11-06   20.52   20.53   20.08   20.13   60641787       0\n",
       "14055  2017-11-07   20.17   20.25   20.12   20.21   41622851       0\n",
       "14056  2017-11-08   20.21   20.32   20.07   20.12   39672190       0\n",
       "14057  2017-11-09   20.04  20.071   19.85   19.99   50831779       0\n",
       "14058  2017-11-10   19.98   20.68    19.9   20.49  100698474       0\n",
       "\n",
       "[14058 rows x 7 columns]"
      ]
     },
     "execution_count": 4,
     "metadata": {},
     "output_type": "execute_result"
    }
   ],
   "source": [
    "#preprocessing!\n",
    "data = data.rename({0:\"Date\",1:\"Open\",2:\"High\",3:\"Low\",4:\"Close\",5:\"Volume\",6:\"OpenInt\"},axis = 1)\n",
    "data\n"
   ]
  },
  {
   "cell_type": "markdown",
   "metadata": {},
   "source": [
    "#### Normalising the given data since Volume attribute has varying values when comapred to the other attributes! Also helps to find local/Global Minimum Efficiently"
   ]
  },
  {
   "cell_type": "code",
   "execution_count": 5,
   "metadata": {},
   "outputs": [
    {
     "name": "stdout",
     "output_type": "stream",
     "text": [
      "Train and Test size 11246 2812\n"
     ]
    }
   ],
   "source": [
    "\n",
    "from sklearn.preprocessing import MinMaxScaler\n",
    "from sklearn.model_selection import train_test_split\n",
    "\n",
    "train_cols = [\"Open\",\"High\",\"Low\",\"Close\",\"Volume\"]\n",
    "df_train, df_test = train_test_split(data, train_size=0.8, test_size=0.2, shuffle=False)\n",
    "print(\"Train and Test size\", len(df_train), len(df_test))\n",
    "# scale the feature MinMax, build array\n",
    "x = df_train.loc[:,train_cols].values\n",
    "min_max_scaler = MinMaxScaler()\n",
    "x_train = min_max_scaler.fit_transform(x)\n",
    "x_test = min_max_scaler.transform(df_test.loc[:,train_cols])"
   ]
  },
  {
   "cell_type": "markdown",
   "metadata": {},
   "source": [
    "### Converting n-array to time series format: "
   ]
  },
  {
   "cell_type": "markdown",
   "metadata": {},
   "source": [
    "#### y_col_index: is the index of the column of the output.\n"
   ]
  },
  {
   "cell_type": "markdown",
   "metadata": {},
   "source": [
    "#### TIME_STEPS:  number of rows as input(60)  and sets the TIME_STEPS+1th data as corresponding output and so on."
   ]
  },
  {
   "cell_type": "code",
   "execution_count": 41,
   "metadata": {},
   "outputs": [
    {
     "data": {
      "application/vnd.jupyter.widget-view+json": {
       "model_id": "a922353f96ad40298b12274f1ee24311",
       "version_major": 2,
       "version_minor": 0
      },
      "text/plain": [
       "HBox(children=(FloatProgress(value=0.0, max=11186.0), HTML(value='')))"
      ]
     },
     "metadata": {},
     "output_type": "display_data"
    },
    {
     "name": "stdout",
     "output_type": "stream",
     "text": [
      "\n",
      "length of time-series i/o (11186, 60, 5) (11186,)\n"
     ]
    }
   ],
   "source": [
    "TIME_STEPS = 60\n",
    "BATCH_SIZE = 20\n",
    "def build_timeseries(mat, y_col_index):\n",
    "    # y_col_index is the index of column that would act as output column\n",
    "    # total number of time-series samples would be len(mat) - TIME_STEPS\n",
    "    dim_0 = mat.shape[0] - TIME_STEPS\n",
    "    dim_1 = mat.shape[1]\n",
    "    x = np.zeros((dim_0, TIME_STEPS, dim_1))\n",
    "    y = np.zeros((dim_0,))\n",
    "    \n",
    "    for i in tqdm_notebook(range(dim_0)):\n",
    "        x[i] = mat[i:TIME_STEPS+i]\n",
    "        y[i] = mat[TIME_STEPS+i, y_col_index]\n",
    "    print(\"length of time-series i/o\",x.shape,y.shape)\n",
    "    return x, y\n",
    "#To Remove the Odd Samples:\n",
    "def trim_dataset(mat, batch_size):\n",
    "    \"\"\"\n",
    "    trims dataset to a size that's divisible by BATCH_SIZE\n",
    "    \"\"\"\n",
    "    no_of_rows_drop = mat.shape[0]%batch_size\n",
    "    if(no_of_rows_drop > 0):\n",
    "        return mat[:-no_of_rows_drop]\n",
    "    else:\n",
    "        return mat\n",
    "x_t, y_t = build_timeseries(x_train, 3)"
   ]
  },
  {
   "cell_type": "markdown",
   "metadata": {},
   "source": [
    "#### Getting our Training,Test and Validation Datasets ready for LSTM!"
   ]
  },
  {
   "cell_type": "code",
   "execution_count": 27,
   "metadata": {},
   "outputs": [
    {
     "data": {
      "application/vnd.jupyter.widget-view+json": {
       "model_id": "f9c89aeec0c44af58362de612ebd562e",
       "version_major": 2,
       "version_minor": 0
      },
      "text/plain": [
       "HBox(children=(FloatProgress(value=0.0, max=11186.0), HTML(value='')))"
      ]
     },
     "metadata": {},
     "output_type": "display_data"
    },
    {
     "name": "stdout",
     "output_type": "stream",
     "text": [
      "\n",
      "length of time-series i/o (11186, 60, 5) (11186,)\n"
     ]
    },
    {
     "data": {
      "application/vnd.jupyter.widget-view+json": {
       "model_id": "79368af4eef44584a346eecb3b82666a",
       "version_major": 2,
       "version_minor": 0
      },
      "text/plain": [
       "HBox(children=(FloatProgress(value=0.0, max=2752.0), HTML(value='')))"
      ]
     },
     "metadata": {},
     "output_type": "display_data"
    },
    {
     "name": "stdout",
     "output_type": "stream",
     "text": [
      "\n",
      "length of time-series i/o (2752, 60, 5) (2752,)\n"
     ]
    },
    {
     "data": {
      "text/plain": [
       "(11246, 5)"
      ]
     },
     "execution_count": 27,
     "metadata": {},
     "output_type": "execute_result"
    }
   ],
   "source": [
    "x_t, y_t = build_timeseries(x_train, 3)\n",
    "x_t = trim_dataset(x_t, BATCH_SIZE)\n",
    "y_t = trim_dataset(y_t, BATCH_SIZE)\n",
    "x_temp, y_temp = build_timeseries(x_test, 3)\n",
    "x_val, x_test_t = np.split(trim_dataset(x_temp, BATCH_SIZE),2)\n",
    "y_val, y_test_t = np.split(trim_dataset(y_temp, BATCH_SIZE),2)\n",
    "x_train.shape"
   ]
  },
  {
   "cell_type": "markdown",
   "metadata": {},
   "source": [
    "#### Building the model LSTM!"
   ]
  },
  {
   "cell_type": "code",
   "execution_count": 8,
   "metadata": {
    "scrolled": true
   },
   "outputs": [
    {
     "name": "stderr",
     "output_type": "stream",
     "text": [
      "Using TensorFlow backend.\n",
      "c:\\users\\rania\\desktop\\nlpproject_env\\lib\\site-packages\\tensorflow\\python\\framework\\dtypes.py:516: FutureWarning: Passing (type, 1) or '1type' as a synonym of type is deprecated; in a future version of numpy, it will be understood as (type, (1,)) / '(1,)type'.\n",
      "  _np_qint8 = np.dtype([(\"qint8\", np.int8, 1)])\n",
      "c:\\users\\rania\\desktop\\nlpproject_env\\lib\\site-packages\\tensorflow\\python\\framework\\dtypes.py:517: FutureWarning: Passing (type, 1) or '1type' as a synonym of type is deprecated; in a future version of numpy, it will be understood as (type, (1,)) / '(1,)type'.\n",
      "  _np_quint8 = np.dtype([(\"quint8\", np.uint8, 1)])\n",
      "c:\\users\\rania\\desktop\\nlpproject_env\\lib\\site-packages\\tensorflow\\python\\framework\\dtypes.py:518: FutureWarning: Passing (type, 1) or '1type' as a synonym of type is deprecated; in a future version of numpy, it will be understood as (type, (1,)) / '(1,)type'.\n",
      "  _np_qint16 = np.dtype([(\"qint16\", np.int16, 1)])\n",
      "c:\\users\\rania\\desktop\\nlpproject_env\\lib\\site-packages\\tensorflow\\python\\framework\\dtypes.py:519: FutureWarning: Passing (type, 1) or '1type' as a synonym of type is deprecated; in a future version of numpy, it will be understood as (type, (1,)) / '(1,)type'.\n",
      "  _np_quint16 = np.dtype([(\"quint16\", np.uint16, 1)])\n",
      "c:\\users\\rania\\desktop\\nlpproject_env\\lib\\site-packages\\tensorflow\\python\\framework\\dtypes.py:520: FutureWarning: Passing (type, 1) or '1type' as a synonym of type is deprecated; in a future version of numpy, it will be understood as (type, (1,)) / '(1,)type'.\n",
      "  _np_qint32 = np.dtype([(\"qint32\", np.int32, 1)])\n",
      "c:\\users\\rania\\desktop\\nlpproject_env\\lib\\site-packages\\tensorflow\\python\\framework\\dtypes.py:525: FutureWarning: Passing (type, 1) or '1type' as a synonym of type is deprecated; in a future version of numpy, it will be understood as (type, (1,)) / '(1,)type'.\n",
      "  np_resource = np.dtype([(\"resource\", np.ubyte, 1)])\n",
      "c:\\users\\rania\\desktop\\nlpproject_env\\lib\\site-packages\\tensorboard\\compat\\tensorflow_stub\\dtypes.py:541: FutureWarning: Passing (type, 1) or '1type' as a synonym of type is deprecated; in a future version of numpy, it will be understood as (type, (1,)) / '(1,)type'.\n",
      "  _np_qint8 = np.dtype([(\"qint8\", np.int8, 1)])\n",
      "c:\\users\\rania\\desktop\\nlpproject_env\\lib\\site-packages\\tensorboard\\compat\\tensorflow_stub\\dtypes.py:542: FutureWarning: Passing (type, 1) or '1type' as a synonym of type is deprecated; in a future version of numpy, it will be understood as (type, (1,)) / '(1,)type'.\n",
      "  _np_quint8 = np.dtype([(\"quint8\", np.uint8, 1)])\n",
      "c:\\users\\rania\\desktop\\nlpproject_env\\lib\\site-packages\\tensorboard\\compat\\tensorflow_stub\\dtypes.py:543: FutureWarning: Passing (type, 1) or '1type' as a synonym of type is deprecated; in a future version of numpy, it will be understood as (type, (1,)) / '(1,)type'.\n",
      "  _np_qint16 = np.dtype([(\"qint16\", np.int16, 1)])\n",
      "c:\\users\\rania\\desktop\\nlpproject_env\\lib\\site-packages\\tensorboard\\compat\\tensorflow_stub\\dtypes.py:544: FutureWarning: Passing (type, 1) or '1type' as a synonym of type is deprecated; in a future version of numpy, it will be understood as (type, (1,)) / '(1,)type'.\n",
      "  _np_quint16 = np.dtype([(\"quint16\", np.uint16, 1)])\n",
      "c:\\users\\rania\\desktop\\nlpproject_env\\lib\\site-packages\\tensorboard\\compat\\tensorflow_stub\\dtypes.py:545: FutureWarning: Passing (type, 1) or '1type' as a synonym of type is deprecated; in a future version of numpy, it will be understood as (type, (1,)) / '(1,)type'.\n",
      "  _np_qint32 = np.dtype([(\"qint32\", np.int32, 1)])\n",
      "c:\\users\\rania\\desktop\\nlpproject_env\\lib\\site-packages\\tensorboard\\compat\\tensorflow_stub\\dtypes.py:550: FutureWarning: Passing (type, 1) or '1type' as a synonym of type is deprecated; in a future version of numpy, it will be understood as (type, (1,)) / '(1,)type'.\n",
      "  np_resource = np.dtype([(\"resource\", np.ubyte, 1)])\n"
     ]
    },
    {
     "name": "stdout",
     "output_type": "stream",
     "text": [
      "Model: \"sequential_1\"\n",
      "_________________________________________________________________\n",
      "Layer (type)                 Output Shape              Param #   \n",
      "=================================================================\n",
      "lstm_1 (LSTM)                (20, 100)                 42400     \n",
      "_________________________________________________________________\n",
      "dropout_1 (Dropout)          (20, 100)                 0         \n",
      "_________________________________________________________________\n",
      "dense_1 (Dense)              (20, 20)                  2020      \n",
      "_________________________________________________________________\n",
      "dense_2 (Dense)              (20, 1)                   21        \n",
      "=================================================================\n",
      "Total params: 44,441\n",
      "Trainable params: 44,441\n",
      "Non-trainable params: 0\n",
      "_________________________________________________________________\n"
     ]
    }
   ],
   "source": [
    "import keras\n",
    "from keras.models import Sequential\n",
    "from keras.layers import Dense,LSTM,Embedding,Dropout\n",
    "from keras import optimizers\n",
    "from keras.callbacks import CSVLogger\n",
    "lr: 0.00010000\n",
    "\n",
    "lstm_model = Sequential()\n",
    "lstm_model.add(LSTM(100, batch_input_shape=(BATCH_SIZE, TIME_STEPS, x_t.shape[2]), dropout=0.0, recurrent_dropout=0.0, stateful=True,     kernel_initializer='random_uniform'))\n",
    "lstm_model.add(Dropout(0.5))\n",
    "lstm_model.add(Dense(20,activation='relu'))\n",
    "lstm_model.add(Dense(1,activation='sigmoid'))\n",
    "lstm_model.compile(loss='mean_squared_error', optimizer='adam', metrics=['accuracy'])\n",
    "lstm_model.summary()\n"
   ]
  },
  {
   "cell_type": "code",
   "execution_count": 20,
   "metadata": {},
   "outputs": [
    {
     "name": "stdout",
     "output_type": "stream",
     "text": [
      "Train on 11180 samples, validate on 1360 samples\n",
      "Epoch 1/10\n",
      " - 18s - loss: 0.0119 - accuracy: 2.6834e-04 - val_loss: 0.0487 - val_accuracy: 0.0000e+00\n",
      "Epoch 2/10\n",
      " - 21s - loss: 0.0061 - accuracy: 2.6834e-04 - val_loss: 0.0247 - val_accuracy: 0.0000e+00\n",
      "Epoch 3/10\n",
      " - 21s - loss: 0.0044 - accuracy: 2.6834e-04 - val_loss: 0.0432 - val_accuracy: 0.0000e+00\n",
      "Epoch 4/10\n",
      " - 33s - loss: 0.0028 - accuracy: 2.6834e-04 - val_loss: 0.0278 - val_accuracy: 0.0000e+00\n",
      "Epoch 5/10\n",
      " - 35s - loss: 0.0024 - accuracy: 2.6834e-04 - val_loss: 0.0409 - val_accuracy: 0.0000e+00\n",
      "Epoch 6/10\n",
      " - 35s - loss: 0.0026 - accuracy: 2.6834e-04 - val_loss: 0.0388 - val_accuracy: 0.0000e+00\n",
      "Epoch 7/10\n",
      " - 36s - loss: 0.0026 - accuracy: 2.6834e-04 - val_loss: 0.0206 - val_accuracy: 0.0000e+00\n",
      "Epoch 8/10\n",
      " - 35s - loss: 0.0021 - accuracy: 2.6834e-04 - val_loss: 0.0328 - val_accuracy: 0.0000e+00\n",
      "Epoch 9/10\n",
      " - 36s - loss: 0.0025 - accuracy: 2.6834e-04 - val_loss: 0.0464 - val_accuracy: 0.0000e+00\n",
      "Epoch 10/10\n",
      " - 36s - loss: 0.0050 - accuracy: 2.6834e-04 - val_loss: 0.0200 - val_accuracy: 0.0000e+00\n"
     ]
    }
   ],
   "source": [
    "history = lstm_model.fit(x_t, y_t, epochs=10, verbose=2, batch_size=BATCH_SIZE,\n",
    "                    shuffle=False, validation_data=(trim_dataset(x_val, BATCH_SIZE),\n",
    "                    trim_dataset(y_val, BATCH_SIZE)))"
   ]
  },
  {
   "cell_type": "code",
   "execution_count": 21,
   "metadata": {},
   "outputs": [
    {
     "name": "stdout",
     "output_type": "stream",
     "text": [
      "Error is 0.007686057565817218 (1360,) (1360,)\n",
      "[0.42719817 0.4028773  0.41531485 0.3998031  0.4035693  0.41745666\n",
      " 0.40026355 0.3851096  0.3869146  0.39096874 0.39876074 0.4097994\n",
      " 0.41632727 0.39320374 0.4295314 ]\n",
      "[0.32378063 0.32499919 0.32800358 0.32905407 0.32905407 0.33031465\n",
      " 0.32943225 0.33205846 0.32659593 0.32747834 0.31770881 0.31092267\n",
      " 0.31258244 0.32378063 0.32592362]\n"
     ]
    }
   ],
   "source": [
    "from sklearn.metrics import mean_squared_error\n",
    "y_pred = lstm_model.predict(trim_dataset(x_test_t, BATCH_SIZE), batch_size=BATCH_SIZE)\n",
    "y_pred = y_pred.flatten()\n",
    "y_test_t = trim_dataset(y_test_t, BATCH_SIZE)\n",
    "error = mean_squared_error(y_test_t, y_pred)\n",
    "print(\"Error is\", error, y_pred.shape, y_test_t.shape)\n",
    "print(y_pred[0:15])\n",
    "print(y_test_t[0:15])"
   ]
  },
  {
   "cell_type": "markdown",
   "metadata": {},
   "source": [
    "#### Converting the predicted value to range of real data:"
   ]
  },
  {
   "cell_type": "code",
   "execution_count": 22,
   "metadata": {},
   "outputs": [
    {
     "name": "stdout",
     "output_type": "stream",
     "text": [
      "[20.792364 19.634764 20.226753 19.488441 19.667702 20.328697 19.510357\n",
      " 18.789076 18.874989 19.067953 19.438828 19.964235 20.274942 19.174332\n",
      " 20.903418]\n",
      "[15.87  15.928 16.071 16.121 16.121 16.181 16.139 16.264 16.004 16.046\n",
      " 15.581 15.258 15.337 15.87  15.972]\n"
     ]
    }
   ],
   "source": [
    "y_pred_org = (y_pred * min_max_scaler.data_range_[3]) + min_max_scaler.data_min_[3]\n",
    "# min_max_scaler.inverse_transform(y_pred)\n",
    "y_test_t_org = (y_test_t * min_max_scaler.data_range_[3]) + min_max_scaler.data_min_[3]\n",
    "# min_max_scaler.inverse_transform(y_test_t)\n",
    "print(y_pred_org[0:15])\n",
    "print(y_test_t_org[0:15])"
   ]
  },
  {
   "cell_type": "markdown",
   "metadata": {},
   "source": [
    "#### Plottting the Predicted Data:"
   ]
  },
  {
   "cell_type": "code",
   "execution_count": 23,
   "metadata": {},
   "outputs": [
    {
     "data": {
      "image/png": "[encoded data removed]",
      "text/plain": [
       "<Figure size 432x288 with 1 Axes>"
      ]
     },
     "metadata": {
      "needs_background": "light"
     },
     "output_type": "display_data"
    }
   ],
   "source": [
    "from matplotlib import pyplot as plt\n",
    "plt.figure()\n",
    "plt.plot(y_pred_org)\n",
    "plt.plot(y_test_t_org)\n",
    "plt.title('Prediction vs Real Stock Price')\n",
    "plt.ylabel('Price')\n",
    "plt.xlabel('Days')\n",
    "plt.legend(['Prediction', 'Real'], loc='upper left')\n",
    "plt.show()\n",
    "#plt.savefig(os.path.join(OUTPUT_PATH, 'pred_vs_real_BS'+str(BATCH_SIZE)+\"_\"+time.ctime()+'.png'))\n",
    "#print_time(\"program completed \", stime)"
   ]
  },
  {
   "cell_type": "code",
   "execution_count": null,
   "metadata": {},
   "outputs": [],
   "source": []
  }
 ],
 "metadata": {
  "kernelspec": {
   "display_name": "Python 3",
   "language": "python",
   "name": "python3"
  },
  "language_info": {
   "codemirror_mode": {
    "name": "ipython",
    "version": 3
   },
   "file_extension": ".py",
   "mimetype": "text/x-python",
   "name": "python",
   "nbconvert_exporter": "python",
   "pygments_lexer": "ipython3",
   "version": "3.7.6"
  }
 },
 "nbformat": 4,
 "nbformat_minor": 4
}
